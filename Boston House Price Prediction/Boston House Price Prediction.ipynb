{
 "cells": [
  {
   "cell_type": "code",
   "execution_count": 10,
   "metadata": {},
   "outputs": [],
   "source": [
    "import numpy as np  \n",
    "import pandas as pd\n",
    "import matplotlib.pyplot as plt"
   ]
  },
  {
   "cell_type": "code",
   "execution_count": 4,
   "metadata": {},
   "outputs": [
    {
     "data": {
      "text/html": [
       "<div>\n",
       "<style scoped>\n",
       "    .dataframe tbody tr th:only-of-type {\n",
       "        vertical-align: middle;\n",
       "    }\n",
       "\n",
       "    .dataframe tbody tr th {\n",
       "        vertical-align: top;\n",
       "    }\n",
       "\n",
       "    .dataframe thead th {\n",
       "        text-align: right;\n",
       "    }\n",
       "</style>\n",
       "<table border=\"1\" class=\"dataframe\">\n",
       "  <thead>\n",
       "    <tr style=\"text-align: right;\">\n",
       "      <th></th>\n",
       "      <th>CRIM</th>\n",
       "      <th>ZN</th>\n",
       "      <th>INDUS</th>\n",
       "      <th>CHAS</th>\n",
       "      <th>NOX</th>\n",
       "      <th>RM</th>\n",
       "      <th>AGE</th>\n",
       "      <th>DIS</th>\n",
       "      <th>RAD</th>\n",
       "      <th>TAX</th>\n",
       "      <th>PTRATIO</th>\n",
       "      <th>B</th>\n",
       "      <th>LSTAT</th>\n",
       "      <th>MEDV</th>\n",
       "    </tr>\n",
       "  </thead>\n",
       "  <tbody>\n",
       "    <tr>\n",
       "      <th>0</th>\n",
       "      <td>0.00632</td>\n",
       "      <td>18.0</td>\n",
       "      <td>2.31</td>\n",
       "      <td>0</td>\n",
       "      <td>0.538</td>\n",
       "      <td>6.575</td>\n",
       "      <td>65.2</td>\n",
       "      <td>4.0900</td>\n",
       "      <td>1</td>\n",
       "      <td>296</td>\n",
       "      <td>15.3</td>\n",
       "      <td>396.90</td>\n",
       "      <td>4.98</td>\n",
       "      <td>24.0</td>\n",
       "    </tr>\n",
       "    <tr>\n",
       "      <th>1</th>\n",
       "      <td>0.02731</td>\n",
       "      <td>0.0</td>\n",
       "      <td>7.07</td>\n",
       "      <td>0</td>\n",
       "      <td>0.469</td>\n",
       "      <td>6.421</td>\n",
       "      <td>78.9</td>\n",
       "      <td>4.9671</td>\n",
       "      <td>2</td>\n",
       "      <td>242</td>\n",
       "      <td>17.8</td>\n",
       "      <td>396.90</td>\n",
       "      <td>9.14</td>\n",
       "      <td>21.6</td>\n",
       "    </tr>\n",
       "    <tr>\n",
       "      <th>2</th>\n",
       "      <td>0.02729</td>\n",
       "      <td>0.0</td>\n",
       "      <td>7.07</td>\n",
       "      <td>0</td>\n",
       "      <td>0.469</td>\n",
       "      <td>7.185</td>\n",
       "      <td>61.1</td>\n",
       "      <td>4.9671</td>\n",
       "      <td>2</td>\n",
       "      <td>242</td>\n",
       "      <td>17.8</td>\n",
       "      <td>392.83</td>\n",
       "      <td>4.03</td>\n",
       "      <td>34.7</td>\n",
       "    </tr>\n",
       "    <tr>\n",
       "      <th>3</th>\n",
       "      <td>0.03237</td>\n",
       "      <td>0.0</td>\n",
       "      <td>2.18</td>\n",
       "      <td>0</td>\n",
       "      <td>0.458</td>\n",
       "      <td>6.998</td>\n",
       "      <td>45.8</td>\n",
       "      <td>6.0622</td>\n",
       "      <td>3</td>\n",
       "      <td>222</td>\n",
       "      <td>18.7</td>\n",
       "      <td>394.63</td>\n",
       "      <td>2.94</td>\n",
       "      <td>33.4</td>\n",
       "    </tr>\n",
       "    <tr>\n",
       "      <th>4</th>\n",
       "      <td>0.06905</td>\n",
       "      <td>0.0</td>\n",
       "      <td>2.18</td>\n",
       "      <td>0</td>\n",
       "      <td>0.458</td>\n",
       "      <td>7.147</td>\n",
       "      <td>54.2</td>\n",
       "      <td>6.0622</td>\n",
       "      <td>3</td>\n",
       "      <td>222</td>\n",
       "      <td>18.7</td>\n",
       "      <td>396.90</td>\n",
       "      <td>5.33</td>\n",
       "      <td>36.2</td>\n",
       "    </tr>\n",
       "  </tbody>\n",
       "</table>\n",
       "</div>"
      ],
      "text/plain": [
       "      CRIM    ZN  INDUS  CHAS    NOX     RM   AGE     DIS  RAD  TAX  PTRATIO  \\\n",
       "0  0.00632  18.0   2.31     0  0.538  6.575  65.2  4.0900    1  296     15.3   \n",
       "1  0.02731   0.0   7.07     0  0.469  6.421  78.9  4.9671    2  242     17.8   \n",
       "2  0.02729   0.0   7.07     0  0.469  7.185  61.1  4.9671    2  242     17.8   \n",
       "3  0.03237   0.0   2.18     0  0.458  6.998  45.8  6.0622    3  222     18.7   \n",
       "4  0.06905   0.0   2.18     0  0.458  7.147  54.2  6.0622    3  222     18.7   \n",
       "\n",
       "        B  LSTAT  MEDV  \n",
       "0  396.90   4.98  24.0  \n",
       "1  396.90   9.14  21.6  \n",
       "2  392.83   4.03  34.7  \n",
       "3  394.63   2.94  33.4  \n",
       "4  396.90   5.33  36.2  "
      ]
     },
     "execution_count": 4,
     "metadata": {},
     "output_type": "execute_result"
    }
   ],
   "source": [
    "data = pd.read_csv('./data/boston.csv')\n",
    "data.head()"
   ]
  },
  {
   "cell_type": "code",
   "execution_count": 5,
   "metadata": {},
   "outputs": [
    {
     "name": "stdout",
     "output_type": "stream",
     "text": [
      "The shape of the data is: (506, 14)\n",
      "The columns of the data are: Index(['CRIM', 'ZN', 'INDUS', 'CHAS', 'NOX', 'RM', 'AGE', 'DIS', 'RAD', 'TAX',\n",
      "       'PTRATIO', 'B', 'LSTAT', 'MEDV'],\n",
      "      dtype='object')\n"
     ]
    }
   ],
   "source": [
    "print(f\"The shape of the data is: {data.shape}\")\n",
    "print(f\"The columns of the data are: {data.columns}\")"
   ]
  },
  {
   "cell_type": "code",
   "execution_count": 6,
   "metadata": {},
   "outputs": [
    {
     "name": "stdout",
     "output_type": "stream",
     "text": [
      "<class 'pandas.core.frame.DataFrame'>\n",
      "RangeIndex: 506 entries, 0 to 505\n",
      "Data columns (total 14 columns):\n",
      " #   Column   Non-Null Count  Dtype  \n",
      "---  ------   --------------  -----  \n",
      " 0   CRIM     506 non-null    float64\n",
      " 1   ZN       506 non-null    float64\n",
      " 2   INDUS    506 non-null    float64\n",
      " 3   CHAS     506 non-null    int64  \n",
      " 4   NOX      506 non-null    float64\n",
      " 5   RM       506 non-null    float64\n",
      " 6   AGE      506 non-null    float64\n",
      " 7   DIS      506 non-null    float64\n",
      " 8   RAD      506 non-null    int64  \n",
      " 9   TAX      506 non-null    int64  \n",
      " 10  PTRATIO  506 non-null    float64\n",
      " 11  B        506 non-null    float64\n",
      " 12  LSTAT    506 non-null    float64\n",
      " 13  MEDV     506 non-null    float64\n",
      "dtypes: float64(11), int64(3)\n",
      "memory usage: 55.5 KB\n"
     ]
    }
   ],
   "source": [
    "data.info()"
   ]
  },
  {
   "cell_type": "code",
   "execution_count": 8,
   "metadata": {},
   "outputs": [
    {
     "data": {
      "text/html": [
       "<div>\n",
       "<style scoped>\n",
       "    .dataframe tbody tr th:only-of-type {\n",
       "        vertical-align: middle;\n",
       "    }\n",
       "\n",
       "    .dataframe tbody tr th {\n",
       "        vertical-align: top;\n",
       "    }\n",
       "\n",
       "    .dataframe thead th {\n",
       "        text-align: right;\n",
       "    }\n",
       "</style>\n",
       "<table border=\"1\" class=\"dataframe\">\n",
       "  <thead>\n",
       "    <tr style=\"text-align: right;\">\n",
       "      <th></th>\n",
       "      <th>CRIM</th>\n",
       "      <th>ZN</th>\n",
       "      <th>INDUS</th>\n",
       "      <th>CHAS</th>\n",
       "      <th>NOX</th>\n",
       "      <th>RM</th>\n",
       "      <th>AGE</th>\n",
       "      <th>DIS</th>\n",
       "      <th>RAD</th>\n",
       "      <th>TAX</th>\n",
       "      <th>PTRATIO</th>\n",
       "      <th>B</th>\n",
       "      <th>LSTAT</th>\n",
       "      <th>MEDV</th>\n",
       "    </tr>\n",
       "  </thead>\n",
       "  <tbody>\n",
       "    <tr>\n",
       "      <th>count</th>\n",
       "      <td>506.000000</td>\n",
       "      <td>506.000000</td>\n",
       "      <td>506.000000</td>\n",
       "      <td>506.000000</td>\n",
       "      <td>506.000000</td>\n",
       "      <td>506.000000</td>\n",
       "      <td>506.000000</td>\n",
       "      <td>506.000000</td>\n",
       "      <td>506.000000</td>\n",
       "      <td>506.000000</td>\n",
       "      <td>506.000000</td>\n",
       "      <td>506.000000</td>\n",
       "      <td>506.000000</td>\n",
       "      <td>506.000000</td>\n",
       "    </tr>\n",
       "    <tr>\n",
       "      <th>mean</th>\n",
       "      <td>3.613524</td>\n",
       "      <td>11.363636</td>\n",
       "      <td>11.136779</td>\n",
       "      <td>0.069170</td>\n",
       "      <td>0.554695</td>\n",
       "      <td>6.284634</td>\n",
       "      <td>68.574901</td>\n",
       "      <td>3.795043</td>\n",
       "      <td>9.549407</td>\n",
       "      <td>408.237154</td>\n",
       "      <td>18.455534</td>\n",
       "      <td>356.674032</td>\n",
       "      <td>12.653063</td>\n",
       "      <td>22.532806</td>\n",
       "    </tr>\n",
       "    <tr>\n",
       "      <th>std</th>\n",
       "      <td>8.601545</td>\n",
       "      <td>23.322453</td>\n",
       "      <td>6.860353</td>\n",
       "      <td>0.253994</td>\n",
       "      <td>0.115878</td>\n",
       "      <td>0.702617</td>\n",
       "      <td>28.148861</td>\n",
       "      <td>2.105710</td>\n",
       "      <td>8.707259</td>\n",
       "      <td>168.537116</td>\n",
       "      <td>2.164946</td>\n",
       "      <td>91.294864</td>\n",
       "      <td>7.141062</td>\n",
       "      <td>9.197104</td>\n",
       "    </tr>\n",
       "    <tr>\n",
       "      <th>min</th>\n",
       "      <td>0.006320</td>\n",
       "      <td>0.000000</td>\n",
       "      <td>0.460000</td>\n",
       "      <td>0.000000</td>\n",
       "      <td>0.385000</td>\n",
       "      <td>3.561000</td>\n",
       "      <td>2.900000</td>\n",
       "      <td>1.129600</td>\n",
       "      <td>1.000000</td>\n",
       "      <td>187.000000</td>\n",
       "      <td>12.600000</td>\n",
       "      <td>0.320000</td>\n",
       "      <td>1.730000</td>\n",
       "      <td>5.000000</td>\n",
       "    </tr>\n",
       "    <tr>\n",
       "      <th>25%</th>\n",
       "      <td>0.082045</td>\n",
       "      <td>0.000000</td>\n",
       "      <td>5.190000</td>\n",
       "      <td>0.000000</td>\n",
       "      <td>0.449000</td>\n",
       "      <td>5.885500</td>\n",
       "      <td>45.025000</td>\n",
       "      <td>2.100175</td>\n",
       "      <td>4.000000</td>\n",
       "      <td>279.000000</td>\n",
       "      <td>17.400000</td>\n",
       "      <td>375.377500</td>\n",
       "      <td>6.950000</td>\n",
       "      <td>17.025000</td>\n",
       "    </tr>\n",
       "    <tr>\n",
       "      <th>50%</th>\n",
       "      <td>0.256510</td>\n",
       "      <td>0.000000</td>\n",
       "      <td>9.690000</td>\n",
       "      <td>0.000000</td>\n",
       "      <td>0.538000</td>\n",
       "      <td>6.208500</td>\n",
       "      <td>77.500000</td>\n",
       "      <td>3.207450</td>\n",
       "      <td>5.000000</td>\n",
       "      <td>330.000000</td>\n",
       "      <td>19.050000</td>\n",
       "      <td>391.440000</td>\n",
       "      <td>11.360000</td>\n",
       "      <td>21.200000</td>\n",
       "    </tr>\n",
       "    <tr>\n",
       "      <th>75%</th>\n",
       "      <td>3.677083</td>\n",
       "      <td>12.500000</td>\n",
       "      <td>18.100000</td>\n",
       "      <td>0.000000</td>\n",
       "      <td>0.624000</td>\n",
       "      <td>6.623500</td>\n",
       "      <td>94.075000</td>\n",
       "      <td>5.188425</td>\n",
       "      <td>24.000000</td>\n",
       "      <td>666.000000</td>\n",
       "      <td>20.200000</td>\n",
       "      <td>396.225000</td>\n",
       "      <td>16.955000</td>\n",
       "      <td>25.000000</td>\n",
       "    </tr>\n",
       "    <tr>\n",
       "      <th>max</th>\n",
       "      <td>88.976200</td>\n",
       "      <td>100.000000</td>\n",
       "      <td>27.740000</td>\n",
       "      <td>1.000000</td>\n",
       "      <td>0.871000</td>\n",
       "      <td>8.780000</td>\n",
       "      <td>100.000000</td>\n",
       "      <td>12.126500</td>\n",
       "      <td>24.000000</td>\n",
       "      <td>711.000000</td>\n",
       "      <td>22.000000</td>\n",
       "      <td>396.900000</td>\n",
       "      <td>37.970000</td>\n",
       "      <td>50.000000</td>\n",
       "    </tr>\n",
       "  </tbody>\n",
       "</table>\n",
       "</div>"
      ],
      "text/plain": [
       "             CRIM          ZN       INDUS        CHAS         NOX          RM  \\\n",
       "count  506.000000  506.000000  506.000000  506.000000  506.000000  506.000000   \n",
       "mean     3.613524   11.363636   11.136779    0.069170    0.554695    6.284634   \n",
       "std      8.601545   23.322453    6.860353    0.253994    0.115878    0.702617   \n",
       "min      0.006320    0.000000    0.460000    0.000000    0.385000    3.561000   \n",
       "25%      0.082045    0.000000    5.190000    0.000000    0.449000    5.885500   \n",
       "50%      0.256510    0.000000    9.690000    0.000000    0.538000    6.208500   \n",
       "75%      3.677083   12.500000   18.100000    0.000000    0.624000    6.623500   \n",
       "max     88.976200  100.000000   27.740000    1.000000    0.871000    8.780000   \n",
       "\n",
       "              AGE         DIS         RAD         TAX     PTRATIO           B  \\\n",
       "count  506.000000  506.000000  506.000000  506.000000  506.000000  506.000000   \n",
       "mean    68.574901    3.795043    9.549407  408.237154   18.455534  356.674032   \n",
       "std     28.148861    2.105710    8.707259  168.537116    2.164946   91.294864   \n",
       "min      2.900000    1.129600    1.000000  187.000000   12.600000    0.320000   \n",
       "25%     45.025000    2.100175    4.000000  279.000000   17.400000  375.377500   \n",
       "50%     77.500000    3.207450    5.000000  330.000000   19.050000  391.440000   \n",
       "75%     94.075000    5.188425   24.000000  666.000000   20.200000  396.225000   \n",
       "max    100.000000   12.126500   24.000000  711.000000   22.000000  396.900000   \n",
       "\n",
       "            LSTAT        MEDV  \n",
       "count  506.000000  506.000000  \n",
       "mean    12.653063   22.532806  \n",
       "std      7.141062    9.197104  \n",
       "min      1.730000    5.000000  \n",
       "25%      6.950000   17.025000  \n",
       "50%     11.360000   21.200000  \n",
       "75%     16.955000   25.000000  \n",
       "max     37.970000   50.000000  "
      ]
     },
     "execution_count": 8,
     "metadata": {},
     "output_type": "execute_result"
    }
   ],
   "source": [
    "data.describe()"
   ]
  },
  {
   "cell_type": "code",
   "execution_count": 14,
   "metadata": {},
   "outputs": [],
   "source": [
    "import seaborn as sns"
   ]
  },
  {
   "cell_type": "code",
   "execution_count": 18,
   "metadata": {},
   "outputs": [
    {
     "data": {
      "text/plain": [
       "<AxesSubplot:>"
      ]
     },
     "execution_count": 18,
     "metadata": {},
     "output_type": "execute_result"
    },
    {
     "data": {
      "image/png": "[encoded data removed]",
      "text/plain": [
       "<Figure size 720x720 with 2 Axes>"
      ]
     },
     "metadata": {
      "needs_background": "light"
     },
     "output_type": "display_data"
    }
   ],
   "source": [
    "corr = data.corr()\n",
    "fig, ax = plt.subplots(figsize=(10, 10))\n",
    "sns.heatmap(corr, xticklabels=corr.columns, yticklabels=corr.columns, annot=True, cmap=sns.diverging_palette(220, 20, as_cmap=True))"
   ]
  },
  {
   "cell_type": "code",
   "execution_count": 22,
   "metadata": {},
   "outputs": [],
   "source": [
    "X = data.drop(['MEDV'], axis=1)\n",
    "y = data['MEDV']"
   ]
  },
  {
   "cell_type": "code",
   "execution_count": 28,
   "metadata": {},
   "outputs": [
    {
     "data": {
      "text/plain": [
       "(506, 13)"
      ]
     },
     "execution_count": 28,
     "metadata": {},
     "output_type": "execute_result"
    }
   ],
   "source": [
    "X.shape"
   ]
  },
  {
   "cell_type": "code",
   "execution_count": 27,
   "metadata": {},
   "outputs": [
    {
     "data": {
      "text/plain": [
       "(506,)"
      ]
     },
     "execution_count": 27,
     "metadata": {},
     "output_type": "execute_result"
    }
   ],
   "source": [
    "y.shape"
   ]
  },
  {
   "cell_type": "code",
   "execution_count": 32,
   "metadata": {},
   "outputs": [],
   "source": [
    "# split the data\n",
    "from sklearn.model_selection import train_test_split\n",
    "X_train, X_test, y_train, y_test = train_test_split(X, y, test_size=0.3, random_state=7)"
   ]
  },
  {
   "cell_type": "code",
   "execution_count": 33,
   "metadata": {},
   "outputs": [],
   "source": [
    "from sklearn.linear_model import LinearRegression\n",
    "\n",
    "\n",
    "lr = LinearRegression()\n",
    "lr.fit(X_train, y_train)\n",
    "\n",
    "y_pred = lr.predict(X_test)"
   ]
  },
  {
   "cell_type": "code",
   "execution_count": 57,
   "metadata": {},
   "outputs": [
    {
     "name": "stdout",
     "output_type": "stream",
     "text": [
      "Mean Squared Error: 17.710105218437285\n"
     ]
    }
   ],
   "source": [
    "# Evaluate model\n",
    "from sklearn.metrics import mean_squared_error\n",
    "\n",
    "mse = mean_squared_error(y_test, y_pred)\n",
    "print('Mean Squared Error:', mse)"
   ]
  },
  {
   "cell_type": "code",
   "execution_count": 34,
   "metadata": {},
   "outputs": [
    {
     "data": {
      "text/plain": [
       "0.6508417720329553"
      ]
     },
     "execution_count": 34,
     "metadata": {},
     "output_type": "execute_result"
    }
   ],
   "source": [
    "lr.score(X_test, y_test)"
   ]
  },
  {
   "cell_type": "markdown",
   "metadata": {},
   "source": [
    "### ANNs"
   ]
  },
  {
   "cell_type": "code",
   "execution_count": 49,
   "metadata": {},
   "outputs": [
    {
     "name": "stderr",
     "output_type": "stream",
     "text": [
      "2024-03-03 20:07:03.420725: I external/local_tsl/tsl/cuda/cudart_stub.cc:31] Could not find cuda drivers on your machine, GPU will not be used.\n",
      "2024-03-03 20:07:03.948148: E external/local_xla/xla/stream_executor/cuda/cuda_dnn.cc:9261] Unable to register cuDNN factory: Attempting to register factory for plugin cuDNN when one has already been registered\n",
      "2024-03-03 20:07:03.948277: E external/local_xla/xla/stream_executor/cuda/cuda_fft.cc:607] Unable to register cuFFT factory: Attempting to register factory for plugin cuFFT when one has already been registered\n",
      "2024-03-03 20:07:04.050503: E external/local_xla/xla/stream_executor/cuda/cuda_blas.cc:1515] Unable to register cuBLAS factory: Attempting to register factory for plugin cuBLAS when one has already been registered\n",
      "2024-03-03 20:07:04.434584: I external/local_tsl/tsl/cuda/cudart_stub.cc:31] Could not find cuda drivers on your machine, GPU will not be used.\n",
      "2024-03-03 20:07:04.602533: I tensorflow/core/platform/cpu_feature_guard.cc:182] This TensorFlow binary is optimized to use available CPU instructions in performance-critical operations.\n",
      "To enable the following instructions: AVX2 FMA, in other operations, rebuild TensorFlow with the appropriate compiler flags.\n",
      "2024-03-03 20:07:06.913904: W tensorflow/compiler/tf2tensorrt/utils/py_utils.cc:38] TF-TRT Warning: Could not find TensorRT\n"
     ]
    }
   ],
   "source": [
    "from keras.models import Sequential\n",
    "from keras.layers import Dense\n",
    "from sklearn.datasets import load_boston\n",
    "from sklearn.model_selection import train_test_split\n",
    "from sklearn.preprocessing import StandardScaler\n"
   ]
  },
  {
   "cell_type": "code",
   "execution_count": 50,
   "metadata": {},
   "outputs": [],
   "source": [
    "\n",
    "# Standardize the dataset\n",
    "scaler = StandardScaler()\n",
    "X_train = scaler.fit_transform(X_train)\n",
    "X_test = scaler.transform(X_test)\n",
    "\n"
   ]
  },
  {
   "cell_type": "code",
   "execution_count": 51,
   "metadata": {},
   "outputs": [],
   "source": [
    "# Create model\n",
    "model = Sequential()\n",
    "model.add(Dense(64, input_dim=X_train.shape[1], activation='relu'))\n",
    "model.add(Dense(64, activation='relu'))\n",
    "model.add(Dense(1))\n",
    "\n"
   ]
  },
  {
   "cell_type": "code",
   "execution_count": 52,
   "metadata": {},
   "outputs": [],
   "source": [
    "\n",
    "# Compile model\n",
    "model.compile(loss='mean_squared_error', optimizer='adam')\n",
    "\n"
   ]
  },
  {
   "cell_type": "code",
   "execution_count": 54,
   "metadata": {},
   "outputs": [
    {
     "name": "stdout",
     "output_type": "stream",
     "text": [
      "Epoch 1/100\n",
      "12/12 [==============================] - 1s 2ms/step - loss: 580.7005\n",
      "Epoch 2/100\n",
      "12/12 [==============================] - 0s 5ms/step - loss: 525.1572\n",
      "Epoch 3/100\n",
      "12/12 [==============================] - 0s 4ms/step - loss: 456.2190\n",
      "Epoch 4/100\n",
      "12/12 [==============================] - 0s 5ms/step - loss: 367.8185\n",
      "Epoch 5/100\n",
      "12/12 [==============================] - 0s 5ms/step - loss: 263.3841\n",
      "Epoch 6/100\n",
      "12/12 [==============================] - 0s 5ms/step - loss: 161.6644\n",
      "Epoch 7/100\n",
      "12/12 [==============================] - 0s 3ms/step - loss: 96.8046\n",
      "Epoch 8/100\n",
      "12/12 [==============================] - 0s 5ms/step - loss: 70.7859\n",
      "Epoch 9/100\n",
      "12/12 [==============================] - 0s 5ms/step - loss: 54.9885\n",
      "Epoch 10/100\n",
      "12/12 [==============================] - 0s 3ms/step - loss: 41.6485\n",
      "Epoch 11/100\n",
      "12/12 [==============================] - 0s 4ms/step - loss: 34.9469\n",
      "Epoch 12/100\n",
      "12/12 [==============================] - 0s 4ms/step - loss: 29.9372\n",
      "Epoch 13/100\n",
      "12/12 [==============================] - 0s 4ms/step - loss: 27.0606\n",
      "Epoch 14/100\n",
      "12/12 [==============================] - 0s 4ms/step - loss: 24.6930\n",
      "Epoch 15/100\n",
      "12/12 [==============================] - 0s 4ms/step - loss: 22.8784\n",
      "Epoch 16/100\n",
      "12/12 [==============================] - 0s 3ms/step - loss: 21.5587\n",
      "Epoch 17/100\n",
      "12/12 [==============================] - 0s 5ms/step - loss: 20.7395\n",
      "Epoch 18/100\n",
      "12/12 [==============================] - 0s 6ms/step - loss: 19.8580\n",
      "Epoch 19/100\n",
      "12/12 [==============================] - 0s 6ms/step - loss: 19.0119\n",
      "Epoch 20/100\n",
      "12/12 [==============================] - 0s 7ms/step - loss: 18.2517\n",
      "Epoch 21/100\n",
      "12/12 [==============================] - 0s 8ms/step - loss: 17.7041\n",
      "Epoch 22/100\n",
      "12/12 [==============================] - 0s 6ms/step - loss: 17.1428\n",
      "Epoch 23/100\n",
      "12/12 [==============================] - 0s 5ms/step - loss: 16.6240\n",
      "Epoch 24/100\n",
      "12/12 [==============================] - 0s 6ms/step - loss: 16.0899\n",
      "Epoch 25/100\n",
      "12/12 [==============================] - 0s 4ms/step - loss: 15.7269\n",
      "Epoch 26/100\n",
      "12/12 [==============================] - 0s 4ms/step - loss: 15.3189\n",
      "Epoch 27/100\n",
      "12/12 [==============================] - 0s 5ms/step - loss: 14.8877\n",
      "Epoch 28/100\n",
      "12/12 [==============================] - 0s 4ms/step - loss: 14.4476\n",
      "Epoch 29/100\n",
      "12/12 [==============================] - 0s 4ms/step - loss: 14.1395\n",
      "Epoch 30/100\n",
      "12/12 [==============================] - 0s 6ms/step - loss: 13.7871\n",
      "Epoch 31/100\n",
      "12/12 [==============================] - 0s 5ms/step - loss: 13.5342\n",
      "Epoch 32/100\n",
      "12/12 [==============================] - 0s 4ms/step - loss: 13.4108\n",
      "Epoch 33/100\n",
      "12/12 [==============================] - 0s 6ms/step - loss: 13.1539\n",
      "Epoch 34/100\n",
      "12/12 [==============================] - 0s 7ms/step - loss: 12.9621\n",
      "Epoch 35/100\n",
      "12/12 [==============================] - 0s 6ms/step - loss: 12.7509\n",
      "Epoch 36/100\n",
      "12/12 [==============================] - 0s 6ms/step - loss: 12.6270\n",
      "Epoch 37/100\n",
      "12/12 [==============================] - 0s 3ms/step - loss: 12.5100\n",
      "Epoch 38/100\n",
      "12/12 [==============================] - 0s 4ms/step - loss: 12.1461\n",
      "Epoch 39/100\n",
      "12/12 [==============================] - 0s 6ms/step - loss: 11.9433\n",
      "Epoch 40/100\n",
      "12/12 [==============================] - 0s 5ms/step - loss: 11.8733\n",
      "Epoch 41/100\n",
      "12/12 [==============================] - 0s 4ms/step - loss: 11.6240\n",
      "Epoch 42/100\n",
      "12/12 [==============================] - 0s 4ms/step - loss: 11.7211\n",
      "Epoch 43/100\n",
      "12/12 [==============================] - 0s 3ms/step - loss: 11.3830\n",
      "Epoch 44/100\n",
      "12/12 [==============================] - 0s 3ms/step - loss: 11.1871\n",
      "Epoch 45/100\n",
      "12/12 [==============================] - 0s 3ms/step - loss: 11.0659\n",
      "Epoch 46/100\n",
      "12/12 [==============================] - 0s 3ms/step - loss: 10.9084\n",
      "Epoch 47/100\n",
      "12/12 [==============================] - 0s 3ms/step - loss: 10.8183\n",
      "Epoch 48/100\n",
      "12/12 [==============================] - 0s 4ms/step - loss: 10.7000\n",
      "Epoch 49/100\n",
      "12/12 [==============================] - 0s 4ms/step - loss: 10.5838\n",
      "Epoch 50/100\n",
      "12/12 [==============================] - 0s 3ms/step - loss: 10.5212\n",
      "Epoch 51/100\n",
      "12/12 [==============================] - 0s 3ms/step - loss: 10.4100\n",
      "Epoch 52/100\n",
      "12/12 [==============================] - 0s 3ms/step - loss: 10.2970\n",
      "Epoch 53/100\n",
      "12/12 [==============================] - 0s 3ms/step - loss: 10.4108\n",
      "Epoch 54/100\n",
      "12/12 [==============================] - 0s 3ms/step - loss: 10.2622\n",
      "Epoch 55/100\n",
      "12/12 [==============================] - 0s 3ms/step - loss: 10.2244\n",
      "Epoch 56/100\n",
      "12/12 [==============================] - 0s 3ms/step - loss: 10.0049\n",
      "Epoch 57/100\n",
      "12/12 [==============================] - 0s 3ms/step - loss: 9.9902\n",
      "Epoch 58/100\n",
      "12/12 [==============================] - 0s 3ms/step - loss: 9.9721\n",
      "Epoch 59/100\n",
      "12/12 [==============================] - 0s 4ms/step - loss: 9.7546\n",
      "Epoch 60/100\n",
      "12/12 [==============================] - 0s 4ms/step - loss: 9.7316\n",
      "Epoch 61/100\n",
      "12/12 [==============================] - 0s 3ms/step - loss: 9.6897\n",
      "Epoch 62/100\n",
      "12/12 [==============================] - 0s 3ms/step - loss: 9.5547\n",
      "Epoch 63/100\n",
      "12/12 [==============================] - 0s 4ms/step - loss: 9.5207\n",
      "Epoch 64/100\n",
      "12/12 [==============================] - 0s 4ms/step - loss: 9.4452\n",
      "Epoch 65/100\n",
      "12/12 [==============================] - 0s 3ms/step - loss: 9.5595\n",
      "Epoch 66/100\n",
      "12/12 [==============================] - 0s 3ms/step - loss: 9.3270\n",
      "Epoch 67/100\n",
      "12/12 [==============================] - 0s 3ms/step - loss: 9.8076\n",
      "Epoch 68/100\n",
      "12/12 [==============================] - 0s 2ms/step - loss: 10.2508\n",
      "Epoch 69/100\n",
      "12/12 [==============================] - 0s 2ms/step - loss: 9.4748\n",
      "Epoch 70/100\n",
      "12/12 [==============================] - 0s 3ms/step - loss: 9.2219\n",
      "Epoch 71/100\n",
      "12/12 [==============================] - 0s 3ms/step - loss: 9.0506\n",
      "Epoch 72/100\n",
      "12/12 [==============================] - 0s 4ms/step - loss: 9.0073\n",
      "Epoch 73/100\n",
      "12/12 [==============================] - 0s 4ms/step - loss: 9.0004\n",
      "Epoch 74/100\n",
      "12/12 [==============================] - 0s 4ms/step - loss: 8.9202\n",
      "Epoch 75/100\n",
      "12/12 [==============================] - 0s 5ms/step - loss: 9.0859\n",
      "Epoch 76/100\n",
      "12/12 [==============================] - 0s 4ms/step - loss: 8.9179\n",
      "Epoch 77/100\n",
      "12/12 [==============================] - 0s 3ms/step - loss: 8.8230\n",
      "Epoch 78/100\n",
      "12/12 [==============================] - 0s 4ms/step - loss: 8.7453\n",
      "Epoch 79/100\n",
      "12/12 [==============================] - 0s 5ms/step - loss: 8.7804\n",
      "Epoch 80/100\n",
      "12/12 [==============================] - 0s 4ms/step - loss: 8.7200\n",
      "Epoch 81/100\n",
      "12/12 [==============================] - 0s 4ms/step - loss: 8.8537\n",
      "Epoch 82/100\n",
      "12/12 [==============================] - 0s 4ms/step - loss: 8.7473\n",
      "Epoch 83/100\n",
      "12/12 [==============================] - 0s 4ms/step - loss: 8.6661\n",
      "Epoch 84/100\n",
      "12/12 [==============================] - 0s 4ms/step - loss: 8.6315\n",
      "Epoch 85/100\n",
      "12/12 [==============================] - 0s 3ms/step - loss: 8.5648\n",
      "Epoch 86/100\n",
      "12/12 [==============================] - 0s 4ms/step - loss: 8.5488\n",
      "Epoch 87/100\n",
      "12/12 [==============================] - 0s 3ms/step - loss: 8.4631\n",
      "Epoch 88/100\n",
      "12/12 [==============================] - 0s 3ms/step - loss: 8.4116\n",
      "Epoch 89/100\n",
      "12/12 [==============================] - 0s 3ms/step - loss: 8.2907\n",
      "Epoch 90/100\n",
      "12/12 [==============================] - 0s 3ms/step - loss: 8.3484\n",
      "Epoch 91/100\n",
      "12/12 [==============================] - 0s 3ms/step - loss: 8.3301\n",
      "Epoch 92/100\n",
      "12/12 [==============================] - 0s 4ms/step - loss: 8.3503\n",
      "Epoch 93/100\n",
      "12/12 [==============================] - 0s 3ms/step - loss: 8.1564\n",
      "Epoch 94/100\n",
      "12/12 [==============================] - 0s 4ms/step - loss: 8.1892\n",
      "Epoch 95/100\n",
      "12/12 [==============================] - 0s 3ms/step - loss: 8.2222\n",
      "Epoch 96/100\n",
      "12/12 [==============================] - 0s 7ms/step - loss: 8.1768\n",
      "Epoch 97/100\n",
      "12/12 [==============================] - 0s 8ms/step - loss: 8.0212\n",
      "Epoch 98/100\n",
      "12/12 [==============================] - 0s 4ms/step - loss: 7.9955\n",
      "Epoch 99/100\n",
      "12/12 [==============================] - 0s 5ms/step - loss: 8.0235\n",
      "Epoch 100/100\n",
      "12/12 [==============================] - 0s 4ms/step - loss: 7.9496\n"
     ]
    },
    {
     "data": {
      "text/plain": [
       "<keras.src.callbacks.History at 0x7f73d25e6560>"
      ]
     },
     "execution_count": 54,
     "metadata": {},
     "output_type": "execute_result"
    }
   ],
   "source": [
    "# Train model\n",
    "model.fit(X_train, y_train, epochs=100, batch_size=32)\n"
   ]
  },
  {
   "cell_type": "code",
   "execution_count": 58,
   "metadata": {},
   "outputs": [
    {
     "name": "stdout",
     "output_type": "stream",
     "text": [
      "5/5 [==============================] - 0s 4ms/step - loss: 17.7101\n",
      "Test loss: 17.710105895996094\n"
     ]
    }
   ],
   "source": [
    "\n",
    "# Evaluate model\n",
    "loss = model.evaluate(X_test, y_test)\n",
    "print('Test loss:', loss)"
   ]
  },
  {
   "cell_type": "code",
   "execution_count": 59,
   "metadata": {},
   "outputs": [
    {
     "name": "stdout",
     "output_type": "stream",
     "text": [
      "5/5 [==============================] - 0s 9ms/step\n",
      "Mean Squared Error: 17.710105218437285\n"
     ]
    }
   ],
   "source": [
    "from sklearn.metrics import mean_squared_error\n",
    "\n",
    "# Assuming that y_test are your true labels and model is your trained model\n",
    "y_pred = model.predict(X_test)\n",
    "\n",
    "# Calculate MSE\n",
    "mse = mean_squared_error(y_test, y_pred)\n",
    "print('Mean Squared Error:', mse)"
   ]
  },
  {
   "cell_type": "code",
   "execution_count": 65,
   "metadata": {},
   "outputs": [
    {
     "name": "stdout",
     "output_type": "stream",
     "text": [
      "5/5 [==============================] - 0s 3ms/step - loss: 17.7101\n",
      "Accuracy Score: 17.710105895996094\n"
     ]
    }
   ],
   "source": [
    "# accuracy score of Sequential model\n",
    "accuracy = model.evaluate(X_test, y_test)\n",
    "print('Accuracy Score:', accuracy)\n"
   ]
  },
  {
   "cell_type": "code",
   "execution_count": null,
   "metadata": {},
   "outputs": [],
   "source": []
  }
 ],
 "metadata": {
  "kernelspec": {
   "display_name": "Python 3",
   "language": "python",
   "name": "python3"
  },
  "language_info": {
   "codemirror_mode": {
    "name": "ipython",
    "version": 3
   },
   "file_extension": ".py",
   "mimetype": "text/x-python",
   "name": "python",
   "nbconvert_exporter": "python",
   "pygments_lexer": "ipython3",
   "version": "3.10.12"
  },
  "orig_nbformat": 4
 },
 "nbformat": 4,
 "nbformat_minor": 2
}
